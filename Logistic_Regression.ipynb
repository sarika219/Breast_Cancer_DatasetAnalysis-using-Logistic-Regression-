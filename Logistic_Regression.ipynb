{
 "cells": [
  {
   "cell_type": "code",
   "execution_count": 34,
   "metadata": {},
   "outputs": [],
   "source": [
    "#importing libraries and dataset\n",
    "import numpy as np\n",
    "import matplotlib.pyplot as plt\n",
    "import pandas as pd\n",
    "data = pd.read_csv('data_bc.csv')\n",
    "X = data.iloc[:,1:31]\n",
    "Y=data.iloc[:,31].values"
   ]
  },
  {
   "cell_type": "code",
   "execution_count": 48,
   "metadata": {},
   "outputs": [
    {
     "data": {
      "text/html": [
       "<div>\n",
       "<style scoped>\n",
       "    .dataframe tbody tr th:only-of-type {\n",
       "        vertical-align: middle;\n",
       "    }\n",
       "\n",
       "    .dataframe tbody tr th {\n",
       "        vertical-align: top;\n",
       "    }\n",
       "\n",
       "    .dataframe thead th {\n",
       "        text-align: right;\n",
       "    }\n",
       "</style>\n",
       "<table border=\"1\" class=\"dataframe\">\n",
       "  <thead>\n",
       "    <tr style=\"text-align: right;\">\n",
       "      <th></th>\n",
       "      <th>id</th>\n",
       "      <th>diagnosis</th>\n",
       "      <th>radius_mean</th>\n",
       "      <th>texture_mean</th>\n",
       "      <th>perimeter_mean</th>\n",
       "      <th>area_mean</th>\n",
       "      <th>smoothness_mean</th>\n",
       "      <th>compactness_mean</th>\n",
       "      <th>concavity_mean</th>\n",
       "      <th>concave points_mean</th>\n",
       "      <th>...</th>\n",
       "      <th>radius_worst</th>\n",
       "      <th>texture_worst</th>\n",
       "      <th>perimeter_worst</th>\n",
       "      <th>area_worst</th>\n",
       "      <th>smoothness_worst</th>\n",
       "      <th>compactness_worst</th>\n",
       "      <th>concavity_worst</th>\n",
       "      <th>concave points_worst</th>\n",
       "      <th>symmetry_worst</th>\n",
       "      <th>fractal_dimension_worst</th>\n",
       "    </tr>\n",
       "  </thead>\n",
       "  <tbody>\n",
       "    <tr>\n",
       "      <td>0</td>\n",
       "      <td>842302</td>\n",
       "      <td>1</td>\n",
       "      <td>17.99</td>\n",
       "      <td>10.38</td>\n",
       "      <td>122.80</td>\n",
       "      <td>1001.0</td>\n",
       "      <td>0.11840</td>\n",
       "      <td>0.27760</td>\n",
       "      <td>0.3001</td>\n",
       "      <td>0.14710</td>\n",
       "      <td>...</td>\n",
       "      <td>25.38</td>\n",
       "      <td>17.33</td>\n",
       "      <td>184.60</td>\n",
       "      <td>2019.0</td>\n",
       "      <td>0.1622</td>\n",
       "      <td>0.6656</td>\n",
       "      <td>0.7119</td>\n",
       "      <td>0.2654</td>\n",
       "      <td>0.4601</td>\n",
       "      <td>0.11890</td>\n",
       "    </tr>\n",
       "    <tr>\n",
       "      <td>1</td>\n",
       "      <td>842517</td>\n",
       "      <td>1</td>\n",
       "      <td>20.57</td>\n",
       "      <td>17.77</td>\n",
       "      <td>132.90</td>\n",
       "      <td>1326.0</td>\n",
       "      <td>0.08474</td>\n",
       "      <td>0.07864</td>\n",
       "      <td>0.0869</td>\n",
       "      <td>0.07017</td>\n",
       "      <td>...</td>\n",
       "      <td>24.99</td>\n",
       "      <td>23.41</td>\n",
       "      <td>158.80</td>\n",
       "      <td>1956.0</td>\n",
       "      <td>0.1238</td>\n",
       "      <td>0.1866</td>\n",
       "      <td>0.2416</td>\n",
       "      <td>0.1860</td>\n",
       "      <td>0.2750</td>\n",
       "      <td>0.08902</td>\n",
       "    </tr>\n",
       "    <tr>\n",
       "      <td>2</td>\n",
       "      <td>84300903</td>\n",
       "      <td>1</td>\n",
       "      <td>19.69</td>\n",
       "      <td>21.25</td>\n",
       "      <td>130.00</td>\n",
       "      <td>1203.0</td>\n",
       "      <td>0.10960</td>\n",
       "      <td>0.15990</td>\n",
       "      <td>0.1974</td>\n",
       "      <td>0.12790</td>\n",
       "      <td>...</td>\n",
       "      <td>23.57</td>\n",
       "      <td>25.53</td>\n",
       "      <td>152.50</td>\n",
       "      <td>1709.0</td>\n",
       "      <td>0.1444</td>\n",
       "      <td>0.4245</td>\n",
       "      <td>0.4504</td>\n",
       "      <td>0.2430</td>\n",
       "      <td>0.3613</td>\n",
       "      <td>0.08758</td>\n",
       "    </tr>\n",
       "    <tr>\n",
       "      <td>3</td>\n",
       "      <td>84348301</td>\n",
       "      <td>1</td>\n",
       "      <td>11.42</td>\n",
       "      <td>20.38</td>\n",
       "      <td>77.58</td>\n",
       "      <td>386.1</td>\n",
       "      <td>0.14250</td>\n",
       "      <td>0.28390</td>\n",
       "      <td>0.2414</td>\n",
       "      <td>0.10520</td>\n",
       "      <td>...</td>\n",
       "      <td>14.91</td>\n",
       "      <td>26.50</td>\n",
       "      <td>98.87</td>\n",
       "      <td>567.7</td>\n",
       "      <td>0.2098</td>\n",
       "      <td>0.8663</td>\n",
       "      <td>0.6869</td>\n",
       "      <td>0.2575</td>\n",
       "      <td>0.6638</td>\n",
       "      <td>0.17300</td>\n",
       "    </tr>\n",
       "    <tr>\n",
       "      <td>4</td>\n",
       "      <td>84358402</td>\n",
       "      <td>1</td>\n",
       "      <td>20.29</td>\n",
       "      <td>14.34</td>\n",
       "      <td>135.10</td>\n",
       "      <td>1297.0</td>\n",
       "      <td>0.10030</td>\n",
       "      <td>0.13280</td>\n",
       "      <td>0.1980</td>\n",
       "      <td>0.10430</td>\n",
       "      <td>...</td>\n",
       "      <td>22.54</td>\n",
       "      <td>16.67</td>\n",
       "      <td>152.20</td>\n",
       "      <td>1575.0</td>\n",
       "      <td>0.1374</td>\n",
       "      <td>0.2050</td>\n",
       "      <td>0.4000</td>\n",
       "      <td>0.1625</td>\n",
       "      <td>0.2364</td>\n",
       "      <td>0.07678</td>\n",
       "    </tr>\n",
       "  </tbody>\n",
       "</table>\n",
       "<p>5 rows × 32 columns</p>\n",
       "</div>"
      ],
      "text/plain": [
       "         id  diagnosis  radius_mean  texture_mean  perimeter_mean  area_mean  \\\n",
       "0    842302          1        17.99         10.38          122.80     1001.0   \n",
       "1    842517          1        20.57         17.77          132.90     1326.0   \n",
       "2  84300903          1        19.69         21.25          130.00     1203.0   \n",
       "3  84348301          1        11.42         20.38           77.58      386.1   \n",
       "4  84358402          1        20.29         14.34          135.10     1297.0   \n",
       "\n",
       "   smoothness_mean  compactness_mean  concavity_mean  concave points_mean  \\\n",
       "0          0.11840           0.27760          0.3001              0.14710   \n",
       "1          0.08474           0.07864          0.0869              0.07017   \n",
       "2          0.10960           0.15990          0.1974              0.12790   \n",
       "3          0.14250           0.28390          0.2414              0.10520   \n",
       "4          0.10030           0.13280          0.1980              0.10430   \n",
       "\n",
       "   ...  radius_worst  texture_worst  perimeter_worst  area_worst  \\\n",
       "0  ...         25.38          17.33           184.60      2019.0   \n",
       "1  ...         24.99          23.41           158.80      1956.0   \n",
       "2  ...         23.57          25.53           152.50      1709.0   \n",
       "3  ...         14.91          26.50            98.87       567.7   \n",
       "4  ...         22.54          16.67           152.20      1575.0   \n",
       "\n",
       "   smoothness_worst  compactness_worst  concavity_worst  concave points_worst  \\\n",
       "0            0.1622             0.6656           0.7119                0.2654   \n",
       "1            0.1238             0.1866           0.2416                0.1860   \n",
       "2            0.1444             0.4245           0.4504                0.2430   \n",
       "3            0.2098             0.8663           0.6869                0.2575   \n",
       "4            0.1374             0.2050           0.4000                0.1625   \n",
       "\n",
       "   symmetry_worst  fractal_dimension_worst  \n",
       "0          0.4601                  0.11890  \n",
       "1          0.2750                  0.08902  \n",
       "2          0.3613                  0.08758  \n",
       "3          0.6638                  0.17300  \n",
       "4          0.2364                  0.07678  \n",
       "\n",
       "[5 rows x 32 columns]"
      ]
     },
     "execution_count": 48,
     "metadata": {},
     "output_type": "execute_result"
    }
   ],
   "source": [
    "data.head()"
   ]
  },
  {
   "cell_type": "code",
   "execution_count": 49,
   "metadata": {},
   "outputs": [],
   "source": [
    "#dropping columns with null values\n",
    "data = data.dropna(axis = 1)"
   ]
  },
  {
   "cell_type": "code",
   "execution_count": 50,
   "metadata": {},
   "outputs": [
    {
     "name": "stdout",
     "output_type": "stream",
     "text": [
      "Cancer data set dimensions : (569, 32)\n"
     ]
    }
   ],
   "source": [
    "#gives the shape of dataset\n",
    "print(\"Cancer data set dimensions : {}\".format(data.shape))"
   ]
  },
  {
   "cell_type": "code",
   "execution_count": 51,
   "metadata": {},
   "outputs": [
    {
     "data": {
      "text/plain": [
       "0    357\n",
       "1    212\n",
       "Name: diagnosis, dtype: int64"
      ]
     },
     "execution_count": 51,
     "metadata": {},
     "output_type": "execute_result"
    }
   ],
   "source": [
    "#number of Malignant and Benign \n",
    "count = data['diagnosis'].value_counts()\n",
    "count"
   ]
  },
  {
   "cell_type": "code",
   "execution_count": 37,
   "metadata": {},
   "outputs": [
    {
     "data": {
      "text/plain": [
       "id                         0\n",
       "diagnosis                  0\n",
       "radius_mean                0\n",
       "texture_mean               0\n",
       "perimeter_mean             0\n",
       "area_mean                  0\n",
       "smoothness_mean            0\n",
       "compactness_mean           0\n",
       "concavity_mean             0\n",
       "concave points_mean        0\n",
       "symmetry_mean              0\n",
       "fractal_dimension_mean     0\n",
       "radius_se                  0\n",
       "texture_se                 0\n",
       "perimeter_se               0\n",
       "area_se                    0\n",
       "smoothness_se              0\n",
       "compactness_se             0\n",
       "concavity_se               0\n",
       "concave points_se          0\n",
       "symmetry_se                0\n",
       "fractal_dimension_se       0\n",
       "radius_worst               0\n",
       "texture_worst              0\n",
       "perimeter_worst            0\n",
       "area_worst                 0\n",
       "smoothness_worst           0\n",
       "compactness_worst          0\n",
       "concavity_worst            0\n",
       "concave points_worst       0\n",
       "symmetry_worst             0\n",
       "fractal_dimension_worst    0\n",
       "dtype: int64"
      ]
     },
     "execution_count": 37,
     "metadata": {},
     "output_type": "execute_result"
    }
   ],
   "source": [
    "data.isnull().sum()\n",
    "data.isna().sum()"
   ]
  },
  {
   "cell_type": "code",
   "execution_count": 53,
   "metadata": {},
   "outputs": [
    {
     "name": "stdout",
     "output_type": "stream",
     "text": [
      "[1 1 1 1 1 1 1 1 1 1 1 1 1 1 1 1 1 1 1 0 0 0 1 1 1 1 1 1 1 1 1 1 1 1 1 1 1\n",
      " 0 1 1 1 1 1 1 1 1 0 1 0 0 0 0 0 1 1 0 1 1 0 0 0 0 1 0 1 1 0 0 0 0 1 0 1 1\n",
      " 0 1 0 1 1 0 0 0 1 1 0 1 1 1 0 0 0 1 0 0 1 1 0 0 0 1 1 0 0 0 0 1 0 0 1 0 0\n",
      " 0 0 0 0 0 0 1 1 1 0 1 1 0 0 0 1 1 0 1 0 1 1 0 1 1 0 0 1 0 0 1 0 0 0 0 1 0\n",
      " 0 0 0 0 0 0 0 0 1 0 0 0 0 1 1 0 1 0 0 1 1 0 0 1 1 0 0 0 0 1 0 0 1 1 1 0 1\n",
      " 0 1 0 0 0 1 0 0 1 1 0 1 1 1 1 0 1 1 1 0 1 0 1 0 0 1 0 1 1 1 1 0 0 1 1 0 0\n",
      " 0 1 0 0 0 0 0 1 1 0 0 1 0 0 1 1 0 1 0 0 0 0 1 0 0 0 0 0 1 0 1 1 1 1 1 1 1\n",
      " 1 1 1 1 1 1 1 0 0 0 0 0 0 1 0 1 0 0 1 0 0 1 0 1 1 0 0 0 0 0 0 0 0 0 0 0 0\n",
      " 0 1 0 0 1 0 1 0 0 0 0 0 0 0 0 0 0 0 0 0 0 1 0 0 0 1 0 1 0 0 0 0 1 1 1 0 0\n",
      " 0 0 1 0 1 0 1 0 0 0 1 0 0 0 0 0 0 0 1 1 1 0 0 0 0 0 0 0 0 0 0 0 1 1 0 1 1\n",
      " 1 0 1 1 0 0 0 0 0 1 0 0 0 0 0 1 0 0 0 1 0 0 1 1 0 0 0 0 0 0 1 0 0 0 0 0 0\n",
      " 0 1 0 0 0 0 0 1 0 0 1 0 0 0 0 0 0 0 0 0 0 0 0 1 0 1 1 0 1 0 0 0 0 0 1 0 0\n",
      " 1 0 1 0 0 1 0 1 0 0 0 0 0 0 0 0 1 1 0 0 0 0 0 0 1 0 0 0 0 0 0 0 0 0 0 1 0\n",
      " 0 0 0 0 0 0 1 0 1 0 0 1 0 0 0 0 0 1 1 0 1 0 1 0 0 0 0 0 1 0 0 1 0 1 0 1 1\n",
      " 0 0 0 1 0 0 0 0 0 0 0 0 0 0 0 1 0 1 1 0 0 0 0 0 0 0 0 0 0 0 0 0 0 0 0 0 0\n",
      " 0 0 0 0 0 0 0 1 1 1 1 1 1 0]\n"
     ]
    }
   ],
   "source": [
    "#Encoding categorical data values\n",
    "from sklearn.preprocessing import LabelEncoder\n",
    "labelencoder_Y = LabelEncoder()\n",
    "data.iloc[:,1] = labelencoder_Y.fit_transform(data.iloc[:,1].values)\n",
    "print(labelencoder_Y.fit_transform(data.iloc[:,1].values))"
   ]
  },
  {
   "cell_type": "code",
   "execution_count": 54,
   "metadata": {},
   "outputs": [
    {
     "data": {
      "text/html": [
       "<div>\n",
       "<style scoped>\n",
       "    .dataframe tbody tr th:only-of-type {\n",
       "        vertical-align: middle;\n",
       "    }\n",
       "\n",
       "    .dataframe tbody tr th {\n",
       "        vertical-align: top;\n",
       "    }\n",
       "\n",
       "    .dataframe thead th {\n",
       "        text-align: right;\n",
       "    }\n",
       "</style>\n",
       "<table border=\"1\" class=\"dataframe\">\n",
       "  <thead>\n",
       "    <tr style=\"text-align: right;\">\n",
       "      <th></th>\n",
       "      <th>id</th>\n",
       "      <th>diagnosis</th>\n",
       "      <th>radius_mean</th>\n",
       "      <th>texture_mean</th>\n",
       "      <th>perimeter_mean</th>\n",
       "      <th>area_mean</th>\n",
       "      <th>smoothness_mean</th>\n",
       "      <th>compactness_mean</th>\n",
       "      <th>concavity_mean</th>\n",
       "      <th>concave points_mean</th>\n",
       "      <th>...</th>\n",
       "      <th>radius_worst</th>\n",
       "      <th>texture_worst</th>\n",
       "      <th>perimeter_worst</th>\n",
       "      <th>area_worst</th>\n",
       "      <th>smoothness_worst</th>\n",
       "      <th>compactness_worst</th>\n",
       "      <th>concavity_worst</th>\n",
       "      <th>concave points_worst</th>\n",
       "      <th>symmetry_worst</th>\n",
       "      <th>fractal_dimension_worst</th>\n",
       "    </tr>\n",
       "  </thead>\n",
       "  <tbody>\n",
       "    <tr>\n",
       "      <td>0</td>\n",
       "      <td>842302</td>\n",
       "      <td>1</td>\n",
       "      <td>17.99</td>\n",
       "      <td>10.38</td>\n",
       "      <td>122.80</td>\n",
       "      <td>1001.0</td>\n",
       "      <td>0.11840</td>\n",
       "      <td>0.27760</td>\n",
       "      <td>0.3001</td>\n",
       "      <td>0.14710</td>\n",
       "      <td>...</td>\n",
       "      <td>25.38</td>\n",
       "      <td>17.33</td>\n",
       "      <td>184.60</td>\n",
       "      <td>2019.0</td>\n",
       "      <td>0.1622</td>\n",
       "      <td>0.6656</td>\n",
       "      <td>0.7119</td>\n",
       "      <td>0.2654</td>\n",
       "      <td>0.4601</td>\n",
       "      <td>0.11890</td>\n",
       "    </tr>\n",
       "    <tr>\n",
       "      <td>1</td>\n",
       "      <td>842517</td>\n",
       "      <td>1</td>\n",
       "      <td>20.57</td>\n",
       "      <td>17.77</td>\n",
       "      <td>132.90</td>\n",
       "      <td>1326.0</td>\n",
       "      <td>0.08474</td>\n",
       "      <td>0.07864</td>\n",
       "      <td>0.0869</td>\n",
       "      <td>0.07017</td>\n",
       "      <td>...</td>\n",
       "      <td>24.99</td>\n",
       "      <td>23.41</td>\n",
       "      <td>158.80</td>\n",
       "      <td>1956.0</td>\n",
       "      <td>0.1238</td>\n",
       "      <td>0.1866</td>\n",
       "      <td>0.2416</td>\n",
       "      <td>0.1860</td>\n",
       "      <td>0.2750</td>\n",
       "      <td>0.08902</td>\n",
       "    </tr>\n",
       "    <tr>\n",
       "      <td>2</td>\n",
       "      <td>84300903</td>\n",
       "      <td>1</td>\n",
       "      <td>19.69</td>\n",
       "      <td>21.25</td>\n",
       "      <td>130.00</td>\n",
       "      <td>1203.0</td>\n",
       "      <td>0.10960</td>\n",
       "      <td>0.15990</td>\n",
       "      <td>0.1974</td>\n",
       "      <td>0.12790</td>\n",
       "      <td>...</td>\n",
       "      <td>23.57</td>\n",
       "      <td>25.53</td>\n",
       "      <td>152.50</td>\n",
       "      <td>1709.0</td>\n",
       "      <td>0.1444</td>\n",
       "      <td>0.4245</td>\n",
       "      <td>0.4504</td>\n",
       "      <td>0.2430</td>\n",
       "      <td>0.3613</td>\n",
       "      <td>0.08758</td>\n",
       "    </tr>\n",
       "    <tr>\n",
       "      <td>3</td>\n",
       "      <td>84348301</td>\n",
       "      <td>1</td>\n",
       "      <td>11.42</td>\n",
       "      <td>20.38</td>\n",
       "      <td>77.58</td>\n",
       "      <td>386.1</td>\n",
       "      <td>0.14250</td>\n",
       "      <td>0.28390</td>\n",
       "      <td>0.2414</td>\n",
       "      <td>0.10520</td>\n",
       "      <td>...</td>\n",
       "      <td>14.91</td>\n",
       "      <td>26.50</td>\n",
       "      <td>98.87</td>\n",
       "      <td>567.7</td>\n",
       "      <td>0.2098</td>\n",
       "      <td>0.8663</td>\n",
       "      <td>0.6869</td>\n",
       "      <td>0.2575</td>\n",
       "      <td>0.6638</td>\n",
       "      <td>0.17300</td>\n",
       "    </tr>\n",
       "    <tr>\n",
       "      <td>4</td>\n",
       "      <td>84358402</td>\n",
       "      <td>1</td>\n",
       "      <td>20.29</td>\n",
       "      <td>14.34</td>\n",
       "      <td>135.10</td>\n",
       "      <td>1297.0</td>\n",
       "      <td>0.10030</td>\n",
       "      <td>0.13280</td>\n",
       "      <td>0.1980</td>\n",
       "      <td>0.10430</td>\n",
       "      <td>...</td>\n",
       "      <td>22.54</td>\n",
       "      <td>16.67</td>\n",
       "      <td>152.20</td>\n",
       "      <td>1575.0</td>\n",
       "      <td>0.1374</td>\n",
       "      <td>0.2050</td>\n",
       "      <td>0.4000</td>\n",
       "      <td>0.1625</td>\n",
       "      <td>0.2364</td>\n",
       "      <td>0.07678</td>\n",
       "    </tr>\n",
       "  </tbody>\n",
       "</table>\n",
       "<p>5 rows × 32 columns</p>\n",
       "</div>"
      ],
      "text/plain": [
       "         id  diagnosis  radius_mean  texture_mean  perimeter_mean  area_mean  \\\n",
       "0    842302          1        17.99         10.38          122.80     1001.0   \n",
       "1    842517          1        20.57         17.77          132.90     1326.0   \n",
       "2  84300903          1        19.69         21.25          130.00     1203.0   \n",
       "3  84348301          1        11.42         20.38           77.58      386.1   \n",
       "4  84358402          1        20.29         14.34          135.10     1297.0   \n",
       "\n",
       "   smoothness_mean  compactness_mean  concavity_mean  concave points_mean  \\\n",
       "0          0.11840           0.27760          0.3001              0.14710   \n",
       "1          0.08474           0.07864          0.0869              0.07017   \n",
       "2          0.10960           0.15990          0.1974              0.12790   \n",
       "3          0.14250           0.28390          0.2414              0.10520   \n",
       "4          0.10030           0.13280          0.1980              0.10430   \n",
       "\n",
       "   ...  radius_worst  texture_worst  perimeter_worst  area_worst  \\\n",
       "0  ...         25.38          17.33           184.60      2019.0   \n",
       "1  ...         24.99          23.41           158.80      1956.0   \n",
       "2  ...         23.57          25.53           152.50      1709.0   \n",
       "3  ...         14.91          26.50            98.87       567.7   \n",
       "4  ...         22.54          16.67           152.20      1575.0   \n",
       "\n",
       "   smoothness_worst  compactness_worst  concavity_worst  concave points_worst  \\\n",
       "0            0.1622             0.6656           0.7119                0.2654   \n",
       "1            0.1238             0.1866           0.2416                0.1860   \n",
       "2            0.1444             0.4245           0.4504                0.2430   \n",
       "3            0.2098             0.8663           0.6869                0.2575   \n",
       "4            0.1374             0.2050           0.4000                0.1625   \n",
       "\n",
       "   symmetry_worst  fractal_dimension_worst  \n",
       "0          0.4601                  0.11890  \n",
       "1          0.2750                  0.08902  \n",
       "2          0.3613                  0.08758  \n",
       "3          0.6638                  0.17300  \n",
       "4          0.2364                  0.07678  \n",
       "\n",
       "[5 rows x 32 columns]"
      ]
     },
     "execution_count": 54,
     "metadata": {},
     "output_type": "execute_result"
    }
   ],
   "source": [
    "data.head()"
   ]
  },
  {
   "cell_type": "code",
   "execution_count": 57,
   "metadata": {},
   "outputs": [],
   "source": [
    "from sklearn.model_selection import train_test_split\n",
    "X_train, X_test, Y_train, Y_test = train_test_split(X, Y, test_size = 0.25, random_state = 0)"
   ]
  },
  {
   "cell_type": "code",
   "execution_count": 59,
   "metadata": {},
   "outputs": [
    {
     "data": {
      "text/plain": [
       "([['diagnosis', 'radius_mean'],\n",
       "  ['diagnosis', 'perimeter_mean'],\n",
       "  ['diagnosis', 'area_mean'],\n",
       "  ['diagnosis', 'compactness_mean'],\n",
       "  ['diagnosis', 'concavity_mean'],\n",
       "  ['diagnosis', 'concave points_mean'],\n",
       "  ['diagnosis', 'radius_se'],\n",
       "  ['diagnosis', 'perimeter_se'],\n",
       "  ['diagnosis', 'area_se'],\n",
       "  ['diagnosis', 'radius_worst'],\n",
       "  ['diagnosis', 'perimeter_worst'],\n",
       "  ['diagnosis', 'area_worst'],\n",
       "  ['diagnosis', 'compactness_worst'],\n",
       "  ['diagnosis', 'concavity_worst'],\n",
       "  ['diagnosis', 'concave points_worst'],\n",
       "  ['radius_mean', 'diagnosis'],\n",
       "  ['radius_mean', 'perimeter_mean'],\n",
       "  ['radius_mean', 'area_mean'],\n",
       "  ['radius_mean', 'compactness_mean'],\n",
       "  ['radius_mean', 'concavity_mean'],\n",
       "  ['radius_mean', 'concave points_mean'],\n",
       "  ['radius_mean', 'radius_se'],\n",
       "  ['radius_mean', 'perimeter_se'],\n",
       "  ['radius_mean', 'area_se'],\n",
       "  ['radius_mean', 'radius_worst'],\n",
       "  ['radius_mean', 'perimeter_worst'],\n",
       "  ['radius_mean', 'area_worst'],\n",
       "  ['radius_mean', 'concavity_worst'],\n",
       "  ['radius_mean', 'concave points_worst'],\n",
       "  ['texture_mean', 'texture_worst'],\n",
       "  ['perimeter_mean', 'diagnosis'],\n",
       "  ['perimeter_mean', 'radius_mean'],\n",
       "  ['perimeter_mean', 'area_mean'],\n",
       "  ['perimeter_mean', 'compactness_mean'],\n",
       "  ['perimeter_mean', 'concavity_mean'],\n",
       "  ['perimeter_mean', 'concave points_mean'],\n",
       "  ['perimeter_mean', 'radius_se'],\n",
       "  ['perimeter_mean', 'perimeter_se'],\n",
       "  ['perimeter_mean', 'area_se'],\n",
       "  ['perimeter_mean', 'radius_worst'],\n",
       "  ['perimeter_mean', 'perimeter_worst'],\n",
       "  ['perimeter_mean', 'area_worst'],\n",
       "  ['perimeter_mean', 'concavity_worst'],\n",
       "  ['perimeter_mean', 'concave points_worst'],\n",
       "  ['area_mean', 'diagnosis'],\n",
       "  ['area_mean', 'radius_mean'],\n",
       "  ['area_mean', 'perimeter_mean'],\n",
       "  ['area_mean', 'concavity_mean'],\n",
       "  ['area_mean', 'concave points_mean'],\n",
       "  ['area_mean', 'radius_se'],\n",
       "  ['area_mean', 'perimeter_se'],\n",
       "  ['area_mean', 'area_se'],\n",
       "  ['area_mean', 'radius_worst'],\n",
       "  ['area_mean', 'perimeter_worst'],\n",
       "  ['area_mean', 'area_worst'],\n",
       "  ['area_mean', 'concavity_worst'],\n",
       "  ['area_mean', 'concave points_worst'],\n",
       "  ['smoothness_mean', 'compactness_mean'],\n",
       "  ['smoothness_mean', 'concavity_mean'],\n",
       "  ['smoothness_mean', 'concave points_mean'],\n",
       "  ['smoothness_mean', 'symmetry_mean'],\n",
       "  ['smoothness_mean', 'fractal_dimension_mean'],\n",
       "  ['smoothness_mean', 'smoothness_worst'],\n",
       "  ['smoothness_mean', 'concave points_worst'],\n",
       "  ['compactness_mean', 'diagnosis'],\n",
       "  ['compactness_mean', 'radius_mean'],\n",
       "  ['compactness_mean', 'perimeter_mean'],\n",
       "  ['compactness_mean', 'smoothness_mean'],\n",
       "  ['compactness_mean', 'concavity_mean'],\n",
       "  ['compactness_mean', 'concave points_mean'],\n",
       "  ['compactness_mean', 'symmetry_mean'],\n",
       "  ['compactness_mean', 'fractal_dimension_mean'],\n",
       "  ['compactness_mean', 'perimeter_se'],\n",
       "  ['compactness_mean', 'compactness_se'],\n",
       "  ['compactness_mean', 'concavity_se'],\n",
       "  ['compactness_mean', 'concave points_se'],\n",
       "  ['compactness_mean', 'fractal_dimension_se'],\n",
       "  ['compactness_mean', 'radius_worst'],\n",
       "  ['compactness_mean', 'perimeter_worst'],\n",
       "  ['compactness_mean', 'area_worst'],\n",
       "  ['compactness_mean', 'smoothness_worst'],\n",
       "  ['compactness_mean', 'compactness_worst'],\n",
       "  ['compactness_mean', 'concavity_worst'],\n",
       "  ['compactness_mean', 'concave points_worst'],\n",
       "  ['compactness_mean', 'symmetry_worst'],\n",
       "  ['compactness_mean', 'fractal_dimension_worst'],\n",
       "  ['concavity_mean', 'diagnosis'],\n",
       "  ['concavity_mean', 'radius_mean'],\n",
       "  ['concavity_mean', 'perimeter_mean'],\n",
       "  ['concavity_mean', 'area_mean'],\n",
       "  ['concavity_mean', 'smoothness_mean'],\n",
       "  ['concavity_mean', 'compactness_mean'],\n",
       "  ['concavity_mean', 'concave points_mean'],\n",
       "  ['concavity_mean', 'symmetry_mean'],\n",
       "  ['concavity_mean', 'radius_se'],\n",
       "  ['concavity_mean', 'perimeter_se'],\n",
       "  ['concavity_mean', 'area_se'],\n",
       "  ['concavity_mean', 'compactness_se'],\n",
       "  ['concavity_mean', 'concavity_se'],\n",
       "  ['concavity_mean', 'concave points_se'],\n",
       "  ['concavity_mean', 'radius_worst'],\n",
       "  ['concavity_mean', 'perimeter_worst'],\n",
       "  ['concavity_mean', 'area_worst'],\n",
       "  ['concavity_mean', 'compactness_worst'],\n",
       "  ['concavity_mean', 'concavity_worst'],\n",
       "  ['concavity_mean', 'concave points_worst'],\n",
       "  ['concavity_mean', 'fractal_dimension_worst'],\n",
       "  ['concave points_mean', 'diagnosis'],\n",
       "  ['concave points_mean', 'radius_mean'],\n",
       "  ['concave points_mean', 'perimeter_mean'],\n",
       "  ['concave points_mean', 'area_mean'],\n",
       "  ['concave points_mean', 'smoothness_mean'],\n",
       "  ['concave points_mean', 'compactness_mean'],\n",
       "  ['concave points_mean', 'concavity_mean'],\n",
       "  ['concave points_mean', 'radius_se'],\n",
       "  ['concave points_mean', 'perimeter_se'],\n",
       "  ['concave points_mean', 'area_se'],\n",
       "  ['concave points_mean', 'concave points_se'],\n",
       "  ['concave points_mean', 'radius_worst'],\n",
       "  ['concave points_mean', 'perimeter_worst'],\n",
       "  ['concave points_mean', 'area_worst'],\n",
       "  ['concave points_mean', 'compactness_worst'],\n",
       "  ['concave points_mean', 'concavity_worst'],\n",
       "  ['concave points_mean', 'concave points_worst'],\n",
       "  ['symmetry_mean', 'smoothness_mean'],\n",
       "  ['symmetry_mean', 'compactness_mean'],\n",
       "  ['symmetry_mean', 'concavity_mean'],\n",
       "  ['symmetry_mean', 'symmetry_worst'],\n",
       "  ['fractal_dimension_mean', 'smoothness_mean'],\n",
       "  ['fractal_dimension_mean', 'compactness_mean'],\n",
       "  ['fractal_dimension_mean', 'compactness_se'],\n",
       "  ['fractal_dimension_mean', 'fractal_dimension_se'],\n",
       "  ['fractal_dimension_mean', 'smoothness_worst'],\n",
       "  ['fractal_dimension_mean', 'fractal_dimension_worst'],\n",
       "  ['radius_se', 'diagnosis'],\n",
       "  ['radius_se', 'radius_mean'],\n",
       "  ['radius_se', 'perimeter_mean'],\n",
       "  ['radius_se', 'area_mean'],\n",
       "  ['radius_se', 'concavity_mean'],\n",
       "  ['radius_se', 'concave points_mean'],\n",
       "  ['radius_se', 'perimeter_se'],\n",
       "  ['radius_se', 'area_se'],\n",
       "  ['radius_se', 'concave points_se'],\n",
       "  ['radius_se', 'radius_worst'],\n",
       "  ['radius_se', 'perimeter_worst'],\n",
       "  ['radius_se', 'area_worst'],\n",
       "  ['radius_se', 'concave points_worst'],\n",
       "  ['perimeter_se', 'diagnosis'],\n",
       "  ['perimeter_se', 'radius_mean'],\n",
       "  ['perimeter_se', 'perimeter_mean'],\n",
       "  ['perimeter_se', 'area_mean'],\n",
       "  ['perimeter_se', 'compactness_mean'],\n",
       "  ['perimeter_se', 'concavity_mean'],\n",
       "  ['perimeter_se', 'concave points_mean'],\n",
       "  ['perimeter_se', 'radius_se'],\n",
       "  ['perimeter_se', 'area_se'],\n",
       "  ['perimeter_se', 'concave points_se'],\n",
       "  ['perimeter_se', 'radius_worst'],\n",
       "  ['perimeter_se', 'perimeter_worst'],\n",
       "  ['perimeter_se', 'area_worst'],\n",
       "  ['perimeter_se', 'concave points_worst'],\n",
       "  ['area_se', 'diagnosis'],\n",
       "  ['area_se', 'radius_mean'],\n",
       "  ['area_se', 'perimeter_mean'],\n",
       "  ['area_se', 'area_mean'],\n",
       "  ['area_se', 'concavity_mean'],\n",
       "  ['area_se', 'concave points_mean'],\n",
       "  ['area_se', 'radius_se'],\n",
       "  ['area_se', 'perimeter_se'],\n",
       "  ['area_se', 'radius_worst'],\n",
       "  ['area_se', 'perimeter_worst'],\n",
       "  ['area_se', 'area_worst'],\n",
       "  ['area_se', 'concave points_worst'],\n",
       "  ['compactness_se', 'compactness_mean'],\n",
       "  ['compactness_se', 'concavity_mean'],\n",
       "  ['compactness_se', 'fractal_dimension_mean'],\n",
       "  ['compactness_se', 'concavity_se'],\n",
       "  ['compactness_se', 'concave points_se'],\n",
       "  ['compactness_se', 'fractal_dimension_se'],\n",
       "  ['compactness_se', 'compactness_worst'],\n",
       "  ['compactness_se', 'concavity_worst'],\n",
       "  ['compactness_se', 'fractal_dimension_worst'],\n",
       "  ['concavity_se', 'compactness_mean'],\n",
       "  ['concavity_se', 'concavity_mean'],\n",
       "  ['concavity_se', 'compactness_se'],\n",
       "  ['concavity_se', 'concave points_se'],\n",
       "  ['concavity_se', 'fractal_dimension_se'],\n",
       "  ['concavity_se', 'concavity_worst'],\n",
       "  ['concave points_se', 'compactness_mean'],\n",
       "  ['concave points_se', 'concavity_mean'],\n",
       "  ['concave points_se', 'concave points_mean'],\n",
       "  ['concave points_se', 'radius_se'],\n",
       "  ['concave points_se', 'perimeter_se'],\n",
       "  ['concave points_se', 'compactness_se'],\n",
       "  ['concave points_se', 'concavity_se'],\n",
       "  ['concave points_se', 'fractal_dimension_se'],\n",
       "  ['concave points_se', 'concavity_worst'],\n",
       "  ['concave points_se', 'concave points_worst'],\n",
       "  ['fractal_dimension_se', 'compactness_mean'],\n",
       "  ['fractal_dimension_se', 'fractal_dimension_mean'],\n",
       "  ['fractal_dimension_se', 'compactness_se'],\n",
       "  ['fractal_dimension_se', 'concavity_se'],\n",
       "  ['fractal_dimension_se', 'concave points_se'],\n",
       "  ['fractal_dimension_se', 'fractal_dimension_worst'],\n",
       "  ['radius_worst', 'diagnosis'],\n",
       "  ['radius_worst', 'radius_mean'],\n",
       "  ['radius_worst', 'perimeter_mean'],\n",
       "  ['radius_worst', 'area_mean'],\n",
       "  ['radius_worst', 'compactness_mean'],\n",
       "  ['radius_worst', 'concavity_mean'],\n",
       "  ['radius_worst', 'concave points_mean'],\n",
       "  ['radius_worst', 'radius_se'],\n",
       "  ['radius_worst', 'perimeter_se'],\n",
       "  ['radius_worst', 'area_se'],\n",
       "  ['radius_worst', 'perimeter_worst'],\n",
       "  ['radius_worst', 'area_worst'],\n",
       "  ['radius_worst', 'concavity_worst'],\n",
       "  ['radius_worst', 'concave points_worst'],\n",
       "  ['texture_worst', 'texture_mean'],\n",
       "  ['perimeter_worst', 'diagnosis'],\n",
       "  ['perimeter_worst', 'radius_mean'],\n",
       "  ['perimeter_worst', 'perimeter_mean'],\n",
       "  ['perimeter_worst', 'area_mean'],\n",
       "  ['perimeter_worst', 'compactness_mean'],\n",
       "  ['perimeter_worst', 'concavity_mean'],\n",
       "  ['perimeter_worst', 'concave points_mean'],\n",
       "  ['perimeter_worst', 'radius_se'],\n",
       "  ['perimeter_worst', 'perimeter_se'],\n",
       "  ['perimeter_worst', 'area_se'],\n",
       "  ['perimeter_worst', 'radius_worst'],\n",
       "  ['perimeter_worst', 'area_worst'],\n",
       "  ['perimeter_worst', 'compactness_worst'],\n",
       "  ['perimeter_worst', 'concavity_worst'],\n",
       "  ['perimeter_worst', 'concave points_worst'],\n",
       "  ['area_worst', 'diagnosis'],\n",
       "  ['area_worst', 'radius_mean'],\n",
       "  ['area_worst', 'perimeter_mean'],\n",
       "  ['area_worst', 'area_mean'],\n",
       "  ['area_worst', 'compactness_mean'],\n",
       "  ['area_worst', 'concavity_mean'],\n",
       "  ['area_worst', 'concave points_mean'],\n",
       "  ['area_worst', 'radius_se'],\n",
       "  ['area_worst', 'perimeter_se'],\n",
       "  ['area_worst', 'area_se'],\n",
       "  ['area_worst', 'radius_worst'],\n",
       "  ['area_worst', 'perimeter_worst'],\n",
       "  ['area_worst', 'concavity_worst'],\n",
       "  ['area_worst', 'concave points_worst'],\n",
       "  ['smoothness_worst', 'smoothness_mean'],\n",
       "  ['smoothness_worst', 'compactness_mean'],\n",
       "  ['smoothness_worst', 'fractal_dimension_mean'],\n",
       "  ['smoothness_worst', 'compactness_worst'],\n",
       "  ['smoothness_worst', 'concavity_worst'],\n",
       "  ['smoothness_worst', 'concave points_worst'],\n",
       "  ['smoothness_worst', 'fractal_dimension_worst'],\n",
       "  ['compactness_worst', 'diagnosis'],\n",
       "  ['compactness_worst', 'compactness_mean'],\n",
       "  ['compactness_worst', 'concavity_mean'],\n",
       "  ['compactness_worst', 'concave points_mean'],\n",
       "  ['compactness_worst', 'compactness_se'],\n",
       "  ['compactness_worst', 'perimeter_worst'],\n",
       "  ['compactness_worst', 'smoothness_worst'],\n",
       "  ['compactness_worst', 'concavity_worst'],\n",
       "  ['compactness_worst', 'concave points_worst'],\n",
       "  ['compactness_worst', 'symmetry_worst'],\n",
       "  ['compactness_worst', 'fractal_dimension_worst'],\n",
       "  ['concavity_worst', 'diagnosis'],\n",
       "  ['concavity_worst', 'radius_mean'],\n",
       "  ['concavity_worst', 'perimeter_mean'],\n",
       "  ['concavity_worst', 'area_mean'],\n",
       "  ['concavity_worst', 'compactness_mean'],\n",
       "  ['concavity_worst', 'concavity_mean'],\n",
       "  ['concavity_worst', 'concave points_mean'],\n",
       "  ['concavity_worst', 'compactness_se'],\n",
       "  ['concavity_worst', 'concavity_se'],\n",
       "  ['concavity_worst', 'concave points_se'],\n",
       "  ['concavity_worst', 'radius_worst'],\n",
       "  ['concavity_worst', 'perimeter_worst'],\n",
       "  ['concavity_worst', 'area_worst'],\n",
       "  ['concavity_worst', 'smoothness_worst'],\n",
       "  ['concavity_worst', 'compactness_worst'],\n",
       "  ['concavity_worst', 'concave points_worst'],\n",
       "  ['concavity_worst', 'symmetry_worst'],\n",
       "  ['concavity_worst', 'fractal_dimension_worst'],\n",
       "  ['concave points_worst', 'diagnosis'],\n",
       "  ['concave points_worst', 'radius_mean'],\n",
       "  ['concave points_worst', 'perimeter_mean'],\n",
       "  ['concave points_worst', 'area_mean'],\n",
       "  ['concave points_worst', 'smoothness_mean'],\n",
       "  ['concave points_worst', 'compactness_mean'],\n",
       "  ['concave points_worst', 'concavity_mean'],\n",
       "  ['concave points_worst', 'concave points_mean'],\n",
       "  ['concave points_worst', 'radius_se'],\n",
       "  ['concave points_worst', 'perimeter_se'],\n",
       "  ['concave points_worst', 'area_se'],\n",
       "  ['concave points_worst', 'concave points_se'],\n",
       "  ['concave points_worst', 'radius_worst'],\n",
       "  ['concave points_worst', 'perimeter_worst'],\n",
       "  ['concave points_worst', 'area_worst'],\n",
       "  ['concave points_worst', 'smoothness_worst'],\n",
       "  ['concave points_worst', 'compactness_worst'],\n",
       "  ['concave points_worst', 'concavity_worst'],\n",
       "  ['concave points_worst', 'symmetry_worst'],\n",
       "  ['concave points_worst', 'fractal_dimension_worst'],\n",
       "  ['symmetry_worst', 'compactness_mean'],\n",
       "  ['symmetry_worst', 'symmetry_mean'],\n",
       "  ['symmetry_worst', 'compactness_worst'],\n",
       "  ['symmetry_worst', 'concavity_worst'],\n",
       "  ['symmetry_worst', 'concave points_worst'],\n",
       "  ['symmetry_worst', 'fractal_dimension_worst'],\n",
       "  ['fractal_dimension_worst', 'compactness_mean'],\n",
       "  ['fractal_dimension_worst', 'concavity_mean'],\n",
       "  ['fractal_dimension_worst', 'fractal_dimension_mean'],\n",
       "  ['fractal_dimension_worst', 'compactness_se'],\n",
       "  ['fractal_dimension_worst', 'fractal_dimension_se'],\n",
       "  ['fractal_dimension_worst', 'smoothness_worst'],\n",
       "  ['fractal_dimension_worst', 'compactness_worst'],\n",
       "  ['fractal_dimension_worst', 'concavity_worst'],\n",
       "  ['fractal_dimension_worst', 'concave points_worst'],\n",
       "  ['fractal_dimension_worst', 'symmetry_worst']],\n",
       " 320)"
      ]
     },
     "execution_count": 59,
     "metadata": {},
     "output_type": "execute_result"
    }
   ],
   "source": [
    "#pair of independent variables with correlation greater than 0.5\n",
    "k = data.corr()\n",
    "z = [[str(i), str(j)] for i in k.columns for j in k.columns if (k.loc[i,j] > abs(0.5))&(i!=j)]\n",
    "z, len(z)"
   ]
  },
  {
   "cell_type": "code",
   "execution_count": 60,
   "metadata": {},
   "outputs": [],
   "source": [
    "X = data.iloc[:, 2:31].values\n",
    "Y = data.iloc[:,1].values"
   ]
  },
  {
   "cell_type": "code",
   "execution_count": 61,
   "metadata": {},
   "outputs": [
    {
     "data": {
      "text/plain": [
       "((426, 29), (143, 29), (426,), (143,))"
      ]
     },
     "execution_count": 61,
     "metadata": {},
     "output_type": "execute_result"
    }
   ],
   "source": [
    "from sklearn.model_selection import train_test_split\n",
    "X_train, X_test, Y_train, Y_test = train_test_split(X,Y,test_size=0.25, random_state=101)\n",
    "X_train.shape, X_test.shape, Y_train.shape, Y_test.shape"
   ]
  },
  {
   "cell_type": "code",
   "execution_count": 62,
   "metadata": {},
   "outputs": [
    {
     "data": {
      "text/plain": [
       "LinearRegression(normalize=True)"
      ]
     },
     "execution_count": 62,
     "metadata": {},
     "output_type": "execute_result"
    }
   ],
   "source": [
    "#Scaling the dataset\n",
    "from sklearn.linear_model import LinearRegression\n",
    "lr = LinearRegression(normalize = True)\n",
    "lr.fit(X_train, Y_train)"
   ]
  },
  {
   "cell_type": "code",
   "execution_count": 63,
   "metadata": {},
   "outputs": [
    {
     "data": {
      "text/plain": [
       "array([-1.25533013e-01,  1.62978681e-04,  1.17953185e-02,  2.02009691e-04,\n",
       "       -2.79351298e+00, -4.15123863e+00,  1.36235929e+00,  1.92092576e+00,\n",
       "        1.40020300e+00,  3.36042355e+00,  9.74977969e-01, -4.92397332e-03,\n",
       "       -9.59694689e-02, -3.52593543e-04,  5.97070252e+00, -7.76982562e-01,\n",
       "       -4.79358524e+00,  1.12629897e+01,  3.89560166e+00,  5.27590573e+00,\n",
       "        1.75848170e-01,  1.00445521e-02, -1.57346305e-03, -1.01127940e-03,\n",
       "        2.38178856e+00,  4.47992209e-01,  5.54292192e-01,  8.69424866e-01,\n",
       "       -6.33558406e-02])"
      ]
     },
     "execution_count": 63,
     "metadata": {},
     "output_type": "execute_result"
    }
   ],
   "source": [
    "lr.coef_"
   ]
  },
  {
   "cell_type": "code",
   "execution_count": 64,
   "metadata": {},
   "outputs": [],
   "source": [
    "predictions = lr.predict(X_test)"
   ]
  },
  {
   "cell_type": "code",
   "execution_count": 69,
   "metadata": {},
   "outputs": [
    {
     "data": {
      "text/plain": [
       "-1761.6000097548722"
      ]
     },
     "execution_count": 69,
     "metadata": {},
     "output_type": "execute_result"
    }
   ],
   "source": [
    "lr.score(X_test, Y_test)"
   ]
  },
  {
   "cell_type": "code",
   "execution_count": 70,
   "metadata": {},
   "outputs": [],
   "source": [
    "#feature scaling\n",
    "from sklearn import preprocessing\n",
    "scale = preprocessing.StandardScaler()"
   ]
  },
  {
   "cell_type": "code",
   "execution_count": 73,
   "metadata": {},
   "outputs": [
    {
     "data": {
      "text/plain": [
       "array([[-0.24158009, -0.25233871, -0.28593015, ..., -0.39972808,\n",
       "        -0.14257025, -1.07012426],\n",
       "       [-0.39595215, -0.49936108, -0.43539869, ..., -0.39456128,\n",
       "        -0.23352397,  0.57196643],\n",
       "       [ 0.21592257, -0.38162145,  0.18779528, ..., -0.31330158,\n",
       "        -0.46781709,  1.09553158],\n",
       "       ...,\n",
       "       [ 0.57238169,  0.077794  ,  0.52348693, ...,  0.04790481,\n",
       "         0.57868208, -0.41170142],\n",
       "       [ 1.33020818,  0.48872842,  1.29124883, ...,  0.89572994,\n",
       "         1.38041098,  1.2208699 ],\n",
       "       [-0.09001479, -0.14614217, -0.10419927, ..., -0.37201523,\n",
       "         0.22033355, -0.09597577]])"
      ]
     },
     "execution_count": 73,
     "metadata": {},
     "output_type": "execute_result"
    }
   ],
   "source": [
    "X_train = scale.fit_transform(X_train)\n",
    "X_train"
   ]
  },
  {
   "cell_type": "code",
   "execution_count": 74,
   "metadata": {},
   "outputs": [
    {
     "data": {
      "text/plain": [
       "array([[-0.60856611, -0.16219339, -0.63793011, ..., -0.39558176,\n",
       "        -0.49665356,  0.18680362],\n",
       "       [-0.11105729, -0.7728038 , -0.18011613, ..., -0.81706329,\n",
       "        -0.64862222, -0.2583254 ],\n",
       "       [-0.4456912 , -0.68932191, -0.48830103, ..., -0.48450409,\n",
       "        -0.52846095,  0.25754117],\n",
       "       ...,\n",
       "       [ 0.9431876 ,  0.98031593,  1.0619753 , ...,  1.26361624,\n",
       "         1.27318984, -0.98985526],\n",
       "       [-0.8277069 , -0.24806048, -0.74972684, ...,  0.24640656,\n",
       "         0.38196813, -0.37047031],\n",
       "       [ 0.32130157,  0.44364662,  0.37759227, ...,  0.77325847,\n",
       "         1.48523915,  0.22130974]])"
      ]
     },
     "execution_count": 74,
     "metadata": {},
     "output_type": "execute_result"
    }
   ],
   "source": [
    "X_test = scale.fit_transform(X_test)\n",
    "X_test"
   ]
  },
  {
   "cell_type": "code",
   "execution_count": 75,
   "metadata": {},
   "outputs": [
    {
     "data": {
      "text/plain": [
       "0    0.372583\n",
       "1    0.372583\n",
       "2    0.372583\n",
       "3    0.372583\n",
       "4    0.372583\n",
       "Name: diagnosis_mean, dtype: float64"
      ]
     },
     "execution_count": 75,
     "metadata": {},
     "output_type": "execute_result"
    }
   ],
   "source": [
    "data['diagnosis_mean'] = data['diagnosis'].mean()\n",
    "data['diagnosis_mean'].head()"
   ]
  },
  {
   "cell_type": "code",
   "execution_count": 77,
   "metadata": {
    "scrolled": true
   },
   "outputs": [
    {
     "data": {
      "text/plain": [
       "<matplotlib.legend.Legend at 0x1479c4ae188>"
      ]
     },
     "execution_count": 77,
     "metadata": {},
     "output_type": "execute_result"
    },
    {
     "data": {
      "image/png": "[encoded data removed]",
      "text/plain": [
       "<Figure size 420x280 with 1 Axes>"
      ]
     },
     "metadata": {
      "needs_background": "light"
     },
     "output_type": "display_data"
    }
   ],
   "source": [
    "plt.figure(dpi=70)\n",
    "k = range(0, len(data))\n",
    "plt.scatter(k, data['diagnosis'].sort_values(), color = 'red', label='Actual Diagnosis')\n",
    "plt.plot(k, data['diagnosis_mean'].sort_values(), color = 'green', label='Mean Diagnosis')\n",
    "plt.xlabel('Points')\n",
    "plt.ylabel('Diagnosis')\n",
    "plt.legend()"
   ]
  },
  {
   "cell_type": "code",
   "execution_count": 78,
   "metadata": {},
   "outputs": [],
   "source": [
    "#Feature Scaling\n",
    "from sklearn.preprocessing import StandardScaler\n",
    "sc = StandardScaler()\n",
    "X_train = sc.fit_transform(X_train)\n",
    "X_test = sc.transform(X_test)"
   ]
  },
  {
   "cell_type": "code",
   "execution_count": 105,
   "metadata": {},
   "outputs": [
    {
     "name": "stdout",
     "output_type": "stream",
     "text": [
      "              precision    recall  f1-score   support\n",
      "\n",
      "           0       0.98      1.00      0.99        88\n",
      "           1       1.00      0.96      0.98        55\n",
      "\n",
      "    accuracy                           0.99       143\n",
      "   macro avg       0.99      0.98      0.99       143\n",
      "weighted avg       0.99      0.99      0.99       143\n",
      "\n"
     ]
    }
   ],
   "source": [
    "from sklearn.linear_model import LogisticRegression\n",
    "classifier = LogisticRegression(random_state = 0)\n",
    "classifier.fit(X_train, Y_train)\n",
    "Y_pred = classifier.predict(X_test)\n",
    "\"\"\"\n",
    "from sklearn.metrics import precision_score\n",
    "Precision = precision_score(Y_test, Y_pred)\n",
    "from sklearn.metrics import recall_score\n",
    "Recall = recall_score(Y_test, Y_pred)\n",
    "#f1 = 2/((1/Precision)+(1/Recall))\n",
    "from sklearn.metrics import f1_score\n",
    "F1=f1_score(Y_test, Y_pred)  \n",
    "Precision,Recall, F1\n",
    "\"\"\"\n",
    "from sklearn.metrics import classification_report\n",
    "k = classification_report(Y_test, Y_pred)\n",
    "print(k)"
   ]
  },
  {
   "cell_type": "code",
   "execution_count": 85,
   "metadata": {},
   "outputs": [
    {
     "data": {
      "text/plain": [
       "array([0, 0, 0, 1, 0, 0, 0, 1, 0, 0, 1, 0, 0, 0, 1, 0, 0, 0, 1, 1, 0, 0,\n",
       "       0, 0, 1, 0, 1, 0, 1, 1, 0, 1, 0, 1, 0, 0, 1, 1, 1, 1, 1, 0, 0, 0,\n",
       "       0, 0, 1, 0, 1, 0, 1, 0, 0, 1, 0, 0, 1, 1, 0, 0, 1, 1, 0, 0, 1, 0,\n",
       "       0, 1, 1, 0, 1, 0, 0, 0, 1, 1, 0, 0, 1, 0, 0, 0, 0, 0, 0, 0, 1, 0,\n",
       "       1, 1, 0, 1, 1, 0, 0, 0, 0, 0, 1, 1, 1, 0, 0, 0, 0, 0, 0, 0, 0, 0,\n",
       "       0, 0, 0, 1, 0, 0, 0, 0, 1, 1, 1, 1, 1, 0, 0, 0, 0, 0, 0, 0, 1, 1,\n",
       "       0, 0, 0, 0, 1, 1, 1, 0, 1, 0, 1], dtype=int64)"
      ]
     },
     "execution_count": 85,
     "metadata": {},
     "output_type": "execute_result"
    }
   ],
   "source": [
    "Y_pred"
   ]
  },
  {
   "cell_type": "code",
   "execution_count": 86,
   "metadata": {},
   "outputs": [
    {
     "data": {
      "text/plain": [
       "0.986013986013986"
      ]
     },
     "execution_count": 86,
     "metadata": {},
     "output_type": "execute_result"
    }
   ],
   "source": [
    "from sklearn.metrics import confusion_matrix\n",
    "cm = confusion_matrix(Y_test, Y_pred)\n",
    "classifier.score(X_test, Y_test)"
   ]
  },
  {
   "cell_type": "code",
   "execution_count": 84,
   "metadata": {},
   "outputs": [
    {
     "name": "stdout",
     "output_type": "stream",
     "text": [
      "0.624113475177305\n"
     ]
    }
   ],
   "source": [
    "m=np.trace(cm)\n",
    "x = cm[0][0]/m\n",
    "print(x)"
   ]
  },
  {
   "cell_type": "code",
   "execution_count": 87,
   "metadata": {},
   "outputs": [
    {
     "data": {
      "text/plain": [
       "0.965034965034965"
      ]
     },
     "execution_count": 87,
     "metadata": {},
     "output_type": "execute_result"
    }
   ],
   "source": [
    "from sklearn.neighbors import KNeighborsClassifier\n",
    "classifier = KNeighborsClassifier(n_neighbors = 5, metric = 'minkowski', p=2)\n",
    "classifier.fit(X_train, Y_train)\n",
    "Y_pred = classifier.predict(X_test)\n",
    "from sklearn.metrics import confusion_matrix\n",
    "cm = confusion_matrix(Y_test, Y_pred)\n",
    "cm\n",
    "classifier.score(X_test, Y_test)\n"
   ]
  },
  {
   "cell_type": "code",
   "execution_count": 90,
   "metadata": {},
   "outputs": [
    {
     "data": {
      "text/plain": [
       "0.986013986013986"
      ]
     },
     "execution_count": 90,
     "metadata": {},
     "output_type": "execute_result"
    }
   ],
   "source": [
    "from sklearn.svm import SVC\n",
    "classifier = SVC(kernel = 'linear', random_state = 0)\n",
    "classifier.fit(X_train, Y_train)\n",
    "Y_pred = classifier.predict(X_test)\n",
    "from sklearn.metrics import confusion_matrix\n",
    "cm = confusion_matrix(Y_test, Y_pred)\n",
    "cm\n",
    "classifier.score(X_test, Y_test)"
   ]
  },
  {
   "cell_type": "code",
   "execution_count": 91,
   "metadata": {},
   "outputs": [
    {
     "data": {
      "text/plain": [
       "0.986013986013986"
      ]
     },
     "execution_count": 91,
     "metadata": {},
     "output_type": "execute_result"
    }
   ],
   "source": [
    "from sklearn.svm import SVC\n",
    "classifier = SVC(kernel = 'rbf', random_state = 0)\n",
    "classifier.fit(X_train, Y_train)\n",
    "Y_pred = classifier.predict(X_test)\n",
    "from sklearn.metrics import confusion_matrix\n",
    "cm = confusion_matrix(Y_test, Y_pred)\n",
    "cm\n",
    "classifier.score(X_test, Y_test)"
   ]
  },
  {
   "cell_type": "code",
   "execution_count": 92,
   "metadata": {},
   "outputs": [
    {
     "data": {
      "text/plain": [
       "0.951048951048951"
      ]
     },
     "execution_count": 92,
     "metadata": {},
     "output_type": "execute_result"
    }
   ],
   "source": [
    "from sklearn.naive_bayes import GaussianNB\n",
    "classifier = GaussianNB()\n",
    "classifier.fit(X_train, Y_train)\n",
    "Y_pred = classifier.predict(X_test)\n",
    "from sklearn.metrics import confusion_matrix\n",
    "cm = confusion_matrix(Y_test, Y_pred)\n",
    "cm\n",
    "classifier.score(X_test, Y_test)"
   ]
  },
  {
   "cell_type": "code",
   "execution_count": 93,
   "metadata": {},
   "outputs": [
    {
     "data": {
      "text/plain": [
       "0.9440559440559441"
      ]
     },
     "execution_count": 93,
     "metadata": {},
     "output_type": "execute_result"
    }
   ],
   "source": [
    "from sklearn.tree import DecisionTreeClassifier\n",
    "classifier = DecisionTreeClassifier(criterion = 'entropy', random_state = 0)\n",
    "classifier.fit(X_train, Y_train)\n",
    "Y_pred = classifier.predict(X_test)\n",
    "from sklearn.metrics import confusion_matrix\n",
    "cm = confusion_matrix(Y_test, Y_pred)\n",
    "cm\n",
    "classifier.score(X_test, Y_test)"
   ]
  },
  {
   "cell_type": "code",
   "execution_count": 94,
   "metadata": {},
   "outputs": [
    {
     "data": {
      "text/plain": [
       "0.9440559440559441"
      ]
     },
     "execution_count": 94,
     "metadata": {},
     "output_type": "execute_result"
    }
   ],
   "source": [
    "from sklearn.ensemble import RandomForestClassifier\n",
    "classifier = RandomForestClassifier(n_estimators = 10, criterion = 'entropy', random_state = 0)\n",
    "classifier.fit(X_train, Y_train)\n",
    "Y_pred = classifier.predict(X_test)\n",
    "from sklearn.metrics import confusion_matrix\n",
    "cm = confusion_matrix(Y_test, Y_pred)\n",
    "cm\n",
    "classifier.score(X_test, Y_test)"
   ]
  },
  {
   "cell_type": "code",
   "execution_count": null,
   "metadata": {},
   "outputs": [],
   "source": []
  }
 ],
 "metadata": {
  "kernelspec": {
   "display_name": "Python 3",
   "language": "python",
   "name": "python3"
  },
  "language_info": {
   "codemirror_mode": {
    "name": "ipython",
    "version": 3
   },
   "file_extension": ".py",
   "mimetype": "text/x-python",
   "name": "python",
   "nbconvert_exporter": "python",
   "pygments_lexer": "ipython3",
   "version": "3.7.4"
  }
 },
 "nbformat": 4,
 "nbformat_minor": 2
}
